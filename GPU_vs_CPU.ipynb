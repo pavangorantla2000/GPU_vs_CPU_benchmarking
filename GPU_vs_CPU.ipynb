{
 "cells": [
  {
   "cell_type": "code",
   "execution_count": 1,
   "id": "451b33dc",
   "metadata": {},
   "outputs": [],
   "source": [
    "import tensorflow as tf\n",
    "import pandas as pd\n",
    "import numpy as np\n",
    "import matplotlib.pyplot as plt\n"
   ]
  },
  {
   "cell_type": "code",
   "execution_count": 2,
   "id": "d86f503f",
   "metadata": {},
   "outputs": [
    {
     "data": {
      "text/plain": [
       "[PhysicalDevice(name='/physical_device:CPU:0', device_type='CPU'),\n",
       " PhysicalDevice(name='/physical_device:GPU:0', device_type='GPU')]"
      ]
     },
     "execution_count": 2,
     "metadata": {},
     "output_type": "execute_result"
    }
   ],
   "source": [
    "tf.config.experimental.list_physical_devices()"
   ]
  },
  {
   "cell_type": "code",
   "execution_count": 3,
   "id": "6e42df45",
   "metadata": {},
   "outputs": [
    {
     "data": {
      "text/plain": [
       "True"
      ]
     },
     "execution_count": 3,
     "metadata": {},
     "output_type": "execute_result"
    }
   ],
   "source": [
    "tf.test.is_built_with_cuda()"
   ]
  },
  {
   "cell_type": "code",
   "execution_count": 4,
   "id": "25524cb2",
   "metadata": {},
   "outputs": [],
   "source": [
    "(X_train,Y_train),(X_test,Y_test)=tf.keras.datasets.cifar10.load_data()"
   ]
  },
  {
   "cell_type": "code",
   "execution_count": 5,
   "id": "0d2090c6",
   "metadata": {},
   "outputs": [
    {
     "data": {
      "text/plain": [
       "(50000, 32, 32, 3)"
      ]
     },
     "execution_count": 5,
     "metadata": {},
     "output_type": "execute_result"
    }
   ],
   "source": [
    "X_train.shape"
   ]
  },
  {
   "cell_type": "code",
   "execution_count": 6,
   "id": "c177146f",
   "metadata": {},
   "outputs": [
    {
     "data": {
      "text/plain": [
       "(32, 32, 3)"
      ]
     },
     "execution_count": 6,
     "metadata": {},
     "output_type": "execute_result"
    }
   ],
   "source": [
    "X_train[0].shape"
   ]
  },
  {
   "cell_type": "code",
   "execution_count": 7,
   "id": "6a32144f",
   "metadata": {},
   "outputs": [
    {
     "data": {
      "text/plain": [
       "(50000, 1)"
      ]
     },
     "execution_count": 7,
     "metadata": {},
     "output_type": "execute_result"
    }
   ],
   "source": [
    "Y_train.shape"
   ]
  },
  {
   "cell_type": "code",
   "execution_count": 8,
   "id": "25dc435a",
   "metadata": {},
   "outputs": [
    {
     "data": {
      "text/plain": [
       "array([[6],\n",
       "       [9],\n",
       "       [9],\n",
       "       [4],\n",
       "       [1]], dtype=uint8)"
      ]
     },
     "execution_count": 8,
     "metadata": {},
     "output_type": "execute_result"
    }
   ],
   "source": [
    "Y_train[:5]"
   ]
  },
  {
   "cell_type": "code",
   "execution_count": 9,
   "id": "55898ba7",
   "metadata": {},
   "outputs": [],
   "source": [
    "#visualing\n",
    "def plot_sample(index):\n",
    "    plt.figure(figsize=(10,1))\n",
    "    plt.imshow(X_train[index])"
   ]
  },
  {
   "cell_type": "code",
   "execution_count": 10,
   "id": "9add6487",
   "metadata": {},
   "outputs": [
    {
     "data": {
      "image/png": "[encoded data removed]",
      "text/plain": [
       "<Figure size 720x72 with 1 Axes>"
      ]
     },
     "metadata": {
      "needs_background": "light"
     },
     "output_type": "display_data"
    }
   ],
   "source": [
    "plot_sample(9)"
   ]
  },
  {
   "cell_type": "code",
   "execution_count": 11,
   "id": "2c9f59ca",
   "metadata": {},
   "outputs": [
    {
     "data": {
      "image/png": "[encoded data removed]",
      "text/plain": [
       "<Figure size 720x72 with 1 Axes>"
      ]
     },
     "metadata": {
      "needs_background": "light"
     },
     "output_type": "display_data"
    }
   ],
   "source": [
    "plot_sample(2)"
   ]
  },
  {
   "cell_type": "code",
   "execution_count": 12,
   "id": "f240f6a3",
   "metadata": {},
   "outputs": [],
   "source": [
    "classes=['airplane','automobile','bird','cat','deer','dog','frog','horse','ship','truck']"
   ]
  },
  {
   "cell_type": "code",
   "execution_count": 13,
   "id": "43efc95e",
   "metadata": {},
   "outputs": [
    {
     "data": {
      "image/png": "[encoded data removed]",
      "text/plain": [
       "<Figure size 720x72 with 1 Axes>"
      ]
     },
     "metadata": {
      "needs_background": "light"
     },
     "output_type": "display_data"
    }
   ],
   "source": [
    "plot_sample(3)"
   ]
  },
  {
   "cell_type": "code",
   "execution_count": 14,
   "id": "084de4ed",
   "metadata": {},
   "outputs": [
    {
     "data": {
      "text/plain": [
       "array([4], dtype=uint8)"
      ]
     },
     "execution_count": 14,
     "metadata": {},
     "output_type": "execute_result"
    }
   ],
   "source": [
    "Y_train[3]"
   ]
  },
  {
   "cell_type": "code",
   "execution_count": 15,
   "id": "32f60648",
   "metadata": {},
   "outputs": [
    {
     "data": {
      "text/plain": [
       "'deer'"
      ]
     },
     "execution_count": 15,
     "metadata": {},
     "output_type": "execute_result"
    }
   ],
   "source": [
    "classes[Y_train[3][0]]"
   ]
  },
  {
   "cell_type": "code",
   "execution_count": 16,
   "id": "6c0b9e12",
   "metadata": {},
   "outputs": [],
   "source": [
    "#scaline\n",
    "X_train_scale=X_train/255\n",
    "X_test_scale=X_test/255\n"
   ]
  },
  {
   "cell_type": "code",
   "execution_count": 17,
   "id": "22ccb11c",
   "metadata": {},
   "outputs": [],
   "source": [
    "#onehot encoding\n",
    "Y_train_categorical=tf.keras.utils.to_categorical(Y_train,\n",
    "                                                 num_classes=10,dtype='float32')"
   ]
  },
  {
   "cell_type": "code",
   "execution_count": 18,
   "id": "8045595b",
   "metadata": {},
   "outputs": [
    {
     "data": {
      "text/plain": [
       "array([[0., 0., 0., 0., 0., 0., 1., 0., 0., 0.],\n",
       "       [0., 0., 0., 0., 0., 0., 0., 0., 0., 1.],\n",
       "       [0., 0., 0., 0., 0., 0., 0., 0., 0., 1.],\n",
       "       [0., 0., 0., 0., 1., 0., 0., 0., 0., 0.],\n",
       "       [0., 1., 0., 0., 0., 0., 0., 0., 0., 0.]], dtype=float32)"
      ]
     },
     "execution_count": 18,
     "metadata": {},
     "output_type": "execute_result"
    }
   ],
   "source": [
    "Y_train_categorical[:5]"
   ]
  },
  {
   "cell_type": "code",
   "execution_count": 19,
   "id": "a66493ae",
   "metadata": {},
   "outputs": [],
   "source": [
    "Y_test_categorical=tf.keras.utils.to_categorical(Y_test,\n",
    "                                                 num_classes=10,dtype='float32')"
   ]
  },
  {
   "cell_type": "code",
   "execution_count": 27,
   "id": "2490f99e",
   "metadata": {},
   "outputs": [
    {
     "name": "stdout",
     "output_type": "stream",
     "text": [
      "Epoch 1/50\n",
      "1563/1563 [==============================] - 7s 4ms/step - loss: 1.8131 - accuracy: 0.3519\n",
      "Epoch 2/50\n",
      "1563/1563 [==============================] - 7s 4ms/step - loss: 1.6248 - accuracy: 0.4285\n",
      "Epoch 3/50\n",
      "1563/1563 [==============================] - 7s 4ms/step - loss: 1.5442 - accuracy: 0.4558\n",
      "Epoch 4/50\n",
      "1563/1563 [==============================] - 7s 5ms/step - loss: 1.4813 - accuracy: 0.4786\n",
      "Epoch 5/50\n",
      "1563/1563 [==============================] - 7s 4ms/step - loss: 1.4335 - accuracy: 0.4974\n",
      "Epoch 6/50\n",
      "1563/1563 [==============================] - 7s 4ms/step - loss: 1.3911 - accuracy: 0.5108\n",
      "Epoch 7/50\n",
      "1563/1563 [==============================] - 7s 4ms/step - loss: 1.3531 - accuracy: 0.5248\n",
      "Epoch 8/50\n",
      "1563/1563 [==============================] - 7s 4ms/step - loss: 1.3163 - accuracy: 0.5352\n",
      "Epoch 9/50\n",
      "1563/1563 [==============================] - 7s 4ms/step - loss: 1.2822 - accuracy: 0.5493\n",
      "Epoch 10/50\n",
      "1563/1563 [==============================] - 7s 4ms/step - loss: 1.2535 - accuracy: 0.5619\n",
      "Epoch 11/50\n",
      "1563/1563 [==============================] - 7s 4ms/step - loss: 1.2225 - accuracy: 0.5733\n",
      "Epoch 12/50\n",
      "1563/1563 [==============================] - 7s 4ms/step - loss: 1.1951 - accuracy: 0.5839\n",
      "Epoch 13/50\n",
      "1563/1563 [==============================] - 7s 4ms/step - loss: 1.1688 - accuracy: 0.5909\n",
      "Epoch 14/50\n",
      "1563/1563 [==============================] - 7s 4ms/step - loss: 1.1374 - accuracy: 0.6016\n",
      "Epoch 15/50\n",
      "1563/1563 [==============================] - 7s 4ms/step - loss: 1.1109 - accuracy: 0.6108\n",
      "Epoch 16/50\n",
      "1563/1563 [==============================] - 7s 4ms/step - loss: 1.0852 - accuracy: 0.6236\n",
      "Epoch 17/50\n",
      "1563/1563 [==============================] - 7s 4ms/step - loss: 1.0598 - accuracy: 0.6312\n",
      "Epoch 18/50\n",
      "1563/1563 [==============================] - 7s 4ms/step - loss: 1.0329 - accuracy: 0.6412\n",
      "Epoch 19/50\n",
      "1563/1563 [==============================] - 7s 4ms/step - loss: 1.0053 - accuracy: 0.6507\n",
      "Epoch 20/50\n",
      "1563/1563 [==============================] - 7s 4ms/step - loss: 0.9796 - accuracy: 0.6602\n",
      "Epoch 21/50\n",
      "1563/1563 [==============================] - 7s 4ms/step - loss: 0.9532 - accuracy: 0.6704\n",
      "Epoch 22/50\n",
      "1563/1563 [==============================] - 7s 4ms/step - loss: 0.9322 - accuracy: 0.6774\n",
      "Epoch 23/50\n",
      "1563/1563 [==============================] - 7s 4ms/step - loss: 0.9028 - accuracy: 0.6885\n",
      "Epoch 24/50\n",
      "1563/1563 [==============================] - 7s 4ms/step - loss: 0.8798 - accuracy: 0.6968\n",
      "Epoch 25/50\n",
      "1563/1563 [==============================] - 7s 4ms/step - loss: 0.8521 - accuracy: 0.7066\n",
      "Epoch 26/50\n",
      "1563/1563 [==============================] - 7s 4ms/step - loss: 0.8299 - accuracy: 0.7118\n",
      "Epoch 27/50\n",
      "1563/1563 [==============================] - 7s 4ms/step - loss: 0.8020 - accuracy: 0.7234\n",
      "Epoch 28/50\n",
      "1563/1563 [==============================] - 7s 4ms/step - loss: 0.7764 - accuracy: 0.7322\n",
      "Epoch 29/50\n",
      "1563/1563 [==============================] - 7s 4ms/step - loss: 0.7508 - accuracy: 0.7422\n",
      "Epoch 30/50\n",
      "1563/1563 [==============================] - 7s 4ms/step - loss: 0.7278 - accuracy: 0.7535\n",
      "Epoch 31/50\n",
      "1563/1563 [==============================] - 7s 4ms/step - loss: 0.7039 - accuracy: 0.7608\n",
      "Epoch 32/50\n",
      "1563/1563 [==============================] - 7s 4ms/step - loss: 0.6791 - accuracy: 0.7700\n",
      "Epoch 33/50\n",
      "1563/1563 [==============================] - 7s 4ms/step - loss: 0.6519 - accuracy: 0.7778\n",
      "Epoch 34/50\n",
      "1563/1563 [==============================] - 7s 4ms/step - loss: 0.6268 - accuracy: 0.7904\n",
      "Epoch 35/50\n",
      "1563/1563 [==============================] - 7s 4ms/step - loss: 0.6047 - accuracy: 0.7958\n",
      "Epoch 36/50\n",
      "1563/1563 [==============================] - 7s 4ms/step - loss: 0.5769 - accuracy: 0.8082\n",
      "Epoch 37/50\n",
      "1563/1563 [==============================] - 7s 4ms/step - loss: 0.5572 - accuracy: 0.8147\n",
      "Epoch 38/50\n",
      "1563/1563 [==============================] - 7s 4ms/step - loss: 0.5357 - accuracy: 0.8222\n",
      "Epoch 39/50\n",
      "1563/1563 [==============================] - 7s 4ms/step - loss: 0.5119 - accuracy: 0.8318\n",
      "Epoch 40/50\n",
      "1563/1563 [==============================] - 7s 4ms/step - loss: 0.4878 - accuracy: 0.8404\n",
      "Epoch 41/50\n",
      "1563/1563 [==============================] - 7s 4ms/step - loss: 0.4674 - accuracy: 0.8480\n",
      "Epoch 42/50\n",
      "1563/1563 [==============================] - 7s 4ms/step - loss: 0.4462 - accuracy: 0.8562\n",
      "Epoch 43/50\n",
      "1563/1563 [==============================] - 7s 4ms/step - loss: 0.4238 - accuracy: 0.8640\n",
      "Epoch 44/50\n",
      "1563/1563 [==============================] - 7s 4ms/step - loss: 0.4019 - accuracy: 0.8725\n",
      "Epoch 45/50\n",
      "1563/1563 [==============================] - 7s 4ms/step - loss: 0.3821 - accuracy: 0.8802\n",
      "Epoch 46/50\n",
      "1563/1563 [==============================] - 7s 4ms/step - loss: 0.3635 - accuracy: 0.8866\n",
      "Epoch 47/50\n",
      "1563/1563 [==============================] - 7s 4ms/step - loss: 0.3474 - accuracy: 0.8924\n",
      "Epoch 48/50\n",
      "1563/1563 [==============================] - 7s 4ms/step - loss: 0.3300 - accuracy: 0.8976\n",
      "Epoch 49/50\n",
      "1563/1563 [==============================] - 7s 4ms/step - loss: 0.3090 - accuracy: 0.9069\n",
      "Epoch 50/50\n",
      "1563/1563 [==============================] - 7s 4ms/step - loss: 0.2904 - accuracy: 0.9146\n"
     ]
    },
    {
     "data": {
      "text/plain": [
       "<tensorflow.python.keras.callbacks.History at 0x2bed6439be0>"
      ]
     },
     "execution_count": 27,
     "metadata": {},
     "output_type": "execute_result"
    }
   ],
   "source": [
    "model=tf.keras.Sequential([\n",
    "        tf.keras.layers.Flatten(input_shape=(32,32,3)),\n",
    "        tf.keras.layers.Dense(3000,activation='relu'),\n",
    "        tf.keras.layers.Dense(1000,activation='relu'),\n",
    "        tf.keras.layers.Dense(10,activation='sigmoid')\n",
    "])\n",
    "model.compile(optimizer=\"SGD\",\n",
    "                 loss=\"categorical_crossentropy\",\n",
    "                 metrics=['accuracy'])\n",
    "model.fit(X_train_scale,Y_train_categorical,epochs=50)"
   ]
  },
  {
   "cell_type": "code",
   "execution_count": 30,
   "id": "ab9bf69a",
   "metadata": {},
   "outputs": [
    {
     "data": {
      "text/plain": [
       "'ship'"
      ]
     },
     "execution_count": 30,
     "metadata": {},
     "output_type": "execute_result"
    }
   ],
   "source": [
    "classes[np.argmax(model.predict(X_test_scale)[1])]\n"
   ]
  },
  {
   "cell_type": "code",
   "execution_count": 31,
   "id": "de3d2073",
   "metadata": {},
   "outputs": [
    {
     "data": {
      "text/plain": [
       "'ship'"
      ]
     },
     "execution_count": 31,
     "metadata": {},
     "output_type": "execute_result"
    }
   ],
   "source": [
    "classes[Y_test[1][0]]"
   ]
  },
  {
   "cell_type": "code",
   "execution_count": 32,
   "id": "5bfce756",
   "metadata": {},
   "outputs": [
    {
     "name": "stdout",
     "output_type": "stream",
     "text": [
      "313/313 [==============================] - 1s 3ms/step - loss: 1.7203 - accuracy: 0.5346\n"
     ]
    },
    {
     "data": {
      "text/plain": [
       "[1.7203460931777954, 0.534600019454956]"
      ]
     },
     "execution_count": 32,
     "metadata": {},
     "output_type": "execute_result"
    }
   ],
   "source": [
    "model.evaluate(X_test_scale,Y_test_categorical)"
   ]
  },
  {
   "cell_type": "code",
   "execution_count": 33,
   "id": "32ebc4ec",
   "metadata": {
    "scrolled": false
   },
   "outputs": [],
   "source": [
    "#building model\n",
    "def get_model():\n",
    "    model=tf.keras.Sequential([\n",
    "        tf.keras.layers.Flatten(input_shape=(32,32,3)),\n",
    "        tf.keras.layers.Dense(3000,activation='relu'),\n",
    "        tf.keras.layers.Dense(1000,activation='relu'),\n",
    "        tf.keras.layers.Dense(10,activation='sigmoid')\n",
    "])\n",
    "    model.compile(optimizer=\"SGD\",\n",
    "                 loss=\"categorical_crossentropy\",\n",
    "                 metrics=['accuracy'])\n",
    "    return model\n"
   ]
  },
  {
   "cell_type": "code",
   "execution_count": 34,
   "id": "2cc9c709",
   "metadata": {},
   "outputs": [
    {
     "name": "stdout",
     "output_type": "stream",
     "text": [
      "1563/1563 [==============================] - 43s 27ms/step - loss: 1.8143 - accuracy: 0.3543\n",
      "43.9 s ± 0 ns per loop (mean ± std. dev. of 1 run, 1 loop each)\n"
     ]
    }
   ],
   "source": [
    "%%timeit -n1 -r1\n",
    "with tf.device('/CPU:0'):\n",
    "    cpu_model=get_model()\n",
    "    cpu_model.fit(X_train_scale,Y_train_categorical,epochs=10)"
   ]
  },
  {
   "cell_type": "code",
   "execution_count": 35,
   "id": "3fa7be37",
   "metadata": {},
   "outputs": [
    {
     "name": "stdout",
     "output_type": "stream",
     "text": [
      "1563/1563 [==============================] - 7s 4ms/step - loss: 1.8098 - accuracy: 0.3545\n",
      "7.87 s ± 0 ns per loop (mean ± std. dev. of 1 run, 1 loop each)\n"
     ]
    }
   ],
   "source": [
    "%%timeit -n1 -r1\n",
    "with tf.device('/GPU:0'):\n",
    "    gpu_model=get_model()\n",
    "    gpu_model.fit(X_train_scale,Y_train_categorical,epochs=10)"
   ]
  },
  {
   "cell_type": "code",
   "execution_count": null,
   "id": "b9e66a5f",
   "metadata": {},
   "outputs": [],
   "source": []
  }
 ],
 "metadata": {
  "kernelspec": {
   "display_name": "Python 3",
   "language": "python",
   "name": "python3"
  },
  "language_info": {
   "codemirror_mode": {
    "name": "ipython",
    "version": 3
   },
   "file_extension": ".py",
   "mimetype": "text/x-python",
   "name": "python",
   "nbconvert_exporter": "python",
   "pygments_lexer": "ipython3",
   "version": "3.8.8"
  }
 },
 "nbformat": 4,
 "nbformat_minor": 5
}
